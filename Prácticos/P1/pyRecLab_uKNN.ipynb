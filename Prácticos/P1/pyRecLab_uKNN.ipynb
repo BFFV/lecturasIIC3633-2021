{
  "nbformat": 4,
  "nbformat_minor": 2,
  "metadata": {
    "accelerator": "GPU",
    "colab": {
      "name": "tutorial-pyreclab-01.ipynb",
      "provenance": [],
      "collapsed_sections": []
    },
    "kernelspec": {
      "name": "python3",
      "display_name": "Python 3.8.10 64-bit"
    },
    "language_info": {
      "codemirror_mode": {
        "name": "ipython",
        "version": 3
      },
      "file_extension": ".py",
      "mimetype": "text/x-python",
      "name": "python",
      "nbconvert_exporter": "python",
      "pygments_lexer": "ipython3",
      "version": "3.8.10"
    },
    "varInspector": {
      "cols": {
        "lenName": 16,
        "lenType": 16,
        "lenVar": 40
      },
      "kernels_config": {
        "python": {
          "delete_cmd_postfix": "",
          "delete_cmd_prefix": "del ",
          "library": "var_list.py",
          "varRefreshCmd": "print(var_dic_list())"
        },
        "r": {
          "delete_cmd_postfix": ") ",
          "delete_cmd_prefix": "rm(",
          "library": "var_list.r",
          "varRefreshCmd": "cat(var_dic_list()) "
        }
      },
      "types_to_exclude": [
        "module",
        "function",
        "builtin_function_or_method",
        "instance",
        "_Feature"
      ],
      "window_display": false
    },
    "interpreter": {
      "hash": "767d51c1340bd893661ea55ea3124f6de3c7a262a8b4abca0554b478b1e2ff90"
    }
  },
  "cells": [
    {
      "cell_type": "markdown",
      "source": [
        "<a href=\"https://colab.research.google.com/github/PUC-RecSys-Class/RecSysPUC-2020/blob/master/practicos/pyRecLab_uKNN.ipynb\" target=\"_parent\"><img src=\"https://colab.research.google.com/assets/colab-badge.svg\" alt=\"Open In Colab\"/></a>\n"
      ],
      "metadata": {
        "colab_type": "text",
        "id": "view-in-github"
      }
    },
    {
      "cell_type": "markdown",
      "source": [
        "# Tutorial pyreclab UserKNN"
      ],
      "metadata": {
        "colab_type": "text",
        "id": "NC-ceGb8LRLT"
      }
    },
    {
      "cell_type": "markdown",
      "source": [
        "En este práctico vamos a utilizar la biblioteca de Python [pyreclab](https://github.com/gasevi/pyreclab) desarrollado por los Laboratorios IALab y SocVis de la Pontificia Universidad Católica de Chile, para aprender sobre User KNN (Filtrado colaborativo basado en usuarios)\n",
        "\n",
        "**Profesor**: Denis Parra\n",
        "**Ayudantes** Andrés Villa, Francisca Cattan, Vladimir Araujo, Andrés Carvallo, Manuel Cartagena.\n"
      ],
      "metadata": {
        "colab_type": "text",
        "id": "mACJbcW8T35p"
      }
    },
    {
      "cell_type": "markdown",
      "source": [
        "Los archivos **u1.base** y **u1.test** tienen tuplas {usuario, item, rating, timestamp}, que es la información de preferencias de usuarios sobre películas en una muestra del dataset [movielens](https://grouplens.org/datasets/movielens/).\n",
        "\n",
        "# Revisar archivos descargados\n",
        "\n",
        "Revisemos cómo es uno de estos archivos:"
      ],
      "metadata": {
        "colab_type": "text",
        "id": "liJ3L2kl4g1o"
      }
    },
    {
      "cell_type": "code",
      "execution_count": 2,
      "source": [
        "import pandas as pd\n",
        "\n",
        "train_file = pd.read_csv('u2.base', sep='\\t', names = ['userid', 'itemid', 'rating', 'timestamp'], header=None)\n",
        "train_file.head()"
      ],
      "outputs": [
        {
          "output_type": "execute_result",
          "data": {
            "text/html": [
              "<div>\n",
              "<style scoped>\n",
              "    .dataframe tbody tr th:only-of-type {\n",
              "        vertical-align: middle;\n",
              "    }\n",
              "\n",
              "    .dataframe tbody tr th {\n",
              "        vertical-align: top;\n",
              "    }\n",
              "\n",
              "    .dataframe thead th {\n",
              "        text-align: right;\n",
              "    }\n",
              "</style>\n",
              "<table border=\"1\" class=\"dataframe\">\n",
              "  <thead>\n",
              "    <tr style=\"text-align: right;\">\n",
              "      <th></th>\n",
              "      <th>userid</th>\n",
              "      <th>itemid</th>\n",
              "      <th>rating</th>\n",
              "      <th>timestamp</th>\n",
              "    </tr>\n",
              "  </thead>\n",
              "  <tbody>\n",
              "    <tr>\n",
              "      <th>0</th>\n",
              "      <td>1</td>\n",
              "      <td>3</td>\n",
              "      <td>4</td>\n",
              "      <td>878542960</td>\n",
              "    </tr>\n",
              "    <tr>\n",
              "      <th>1</th>\n",
              "      <td>1</td>\n",
              "      <td>4</td>\n",
              "      <td>3</td>\n",
              "      <td>876893119</td>\n",
              "    </tr>\n",
              "    <tr>\n",
              "      <th>2</th>\n",
              "      <td>1</td>\n",
              "      <td>5</td>\n",
              "      <td>3</td>\n",
              "      <td>889751712</td>\n",
              "    </tr>\n",
              "    <tr>\n",
              "      <th>3</th>\n",
              "      <td>1</td>\n",
              "      <td>6</td>\n",
              "      <td>5</td>\n",
              "      <td>887431973</td>\n",
              "    </tr>\n",
              "    <tr>\n",
              "      <th>4</th>\n",
              "      <td>1</td>\n",
              "      <td>7</td>\n",
              "      <td>4</td>\n",
              "      <td>875071561</td>\n",
              "    </tr>\n",
              "  </tbody>\n",
              "</table>\n",
              "</div>"
            ],
            "text/plain": [
              "   userid  itemid  rating  timestamp\n",
              "0       1       3       4  878542960\n",
              "1       1       4       3  876893119\n",
              "2       1       5       3  889751712\n",
              "3       1       6       5  887431973\n",
              "4       1       7       4  875071561"
            ]
          },
          "metadata": {},
          "execution_count": 2
        }
      ],
      "metadata": {
        "colab_type": "code",
        "id": "10N9GHcw5AeV",
        "colab": {
          "base_uri": "https://localhost:8080/",
          "height": 204
        },
        "outputId": "ba4b82c5-d844-46a5-ad8f-641313e92737"
      }
    },
    {
      "cell_type": "code",
      "execution_count": 3,
      "source": [
        "# Ver la o las filas específicas del ítem con id = 1653\n",
        "train_file[train_file['itemid'] == 1653]"
      ],
      "outputs": [
        {
          "output_type": "execute_result",
          "data": {
            "text/html": [
              "<div>\n",
              "<style scoped>\n",
              "    .dataframe tbody tr th:only-of-type {\n",
              "        vertical-align: middle;\n",
              "    }\n",
              "\n",
              "    .dataframe tbody tr th {\n",
              "        vertical-align: top;\n",
              "    }\n",
              "\n",
              "    .dataframe thead th {\n",
              "        text-align: right;\n",
              "    }\n",
              "</style>\n",
              "<table border=\"1\" class=\"dataframe\">\n",
              "  <thead>\n",
              "    <tr style=\"text-align: right;\">\n",
              "      <th></th>\n",
              "      <th>userid</th>\n",
              "      <th>itemid</th>\n",
              "      <th>rating</th>\n",
              "      <th>timestamp</th>\n",
              "    </tr>\n",
              "  </thead>\n",
              "  <tbody>\n",
              "    <tr>\n",
              "      <th>54444</th>\n",
              "      <td>675</td>\n",
              "      <td>1653</td>\n",
              "      <td>5</td>\n",
              "      <td>889489913</td>\n",
              "    </tr>\n",
              "  </tbody>\n",
              "</table>\n",
              "</div>"
            ],
            "text/plain": [
              "       userid  itemid  rating  timestamp\n",
              "54444     675    1653       5  889489913"
            ]
          },
          "metadata": {},
          "execution_count": 3
        }
      ],
      "metadata": {
        "id": "wi4TSVE3atjZ",
        "colab_type": "code",
        "colab": {
          "base_uri": "https://localhost:8080/",
          "height": 80
        },
        "outputId": "3eb55f02-bf17-4e9e-8c69-6d95436a4b31"
      }
    },
    {
      "cell_type": "markdown",
      "source": [
        "Por otra parte, para obtener información adicional de cada película tal como *título*, *fecha de lanzamient*o, *género*, etc., cargaremos el archivo de items descargado ( *u.item* ) para poder mapear cada identificador de ítem al conjunto de datos que lo describe.\n",
        "Revisemos el contenido de este archivo"
      ],
      "metadata": {
        "colab_type": "text",
        "id": "BKOrcfaiEdqM"
      }
    },
    {
      "cell_type": "code",
      "execution_count": 4,
      "source": [
        "info_cols = [ 'movieid', 'title', 'release_date', 'video_release_date', 'IMDb_URL', \\\n",
        "              'unknown', 'Action', 'Adventure', 'Animation', 'Children', 'Comedy', \\\n",
        "              'Crime', 'Documentary', 'Drama', 'Fantasy', 'Film-Noir', 'Horror', \\\n",
        "              'Musical', 'Mystery', 'Romance', 'Sci-Fi', 'Thriller', 'War', 'Western' ]\n",
        "\n",
        "pd.options.display.max_columns = None\n",
        "\n",
        "info_file = pd.read_csv('u.item', sep='|', index_col = 0, names = info_cols, header=None, encoding='latin-1')\n",
        "\n",
        "info_file.head()"
      ],
      "outputs": [
        {
          "output_type": "execute_result",
          "data": {
            "text/html": [
              "<div>\n",
              "<style scoped>\n",
              "    .dataframe tbody tr th:only-of-type {\n",
              "        vertical-align: middle;\n",
              "    }\n",
              "\n",
              "    .dataframe tbody tr th {\n",
              "        vertical-align: top;\n",
              "    }\n",
              "\n",
              "    .dataframe thead th {\n",
              "        text-align: right;\n",
              "    }\n",
              "</style>\n",
              "<table border=\"1\" class=\"dataframe\">\n",
              "  <thead>\n",
              "    <tr style=\"text-align: right;\">\n",
              "      <th></th>\n",
              "      <th>title</th>\n",
              "      <th>release_date</th>\n",
              "      <th>video_release_date</th>\n",
              "      <th>IMDb_URL</th>\n",
              "      <th>unknown</th>\n",
              "      <th>Action</th>\n",
              "      <th>Adventure</th>\n",
              "      <th>Animation</th>\n",
              "      <th>Children</th>\n",
              "      <th>Comedy</th>\n",
              "      <th>Crime</th>\n",
              "      <th>Documentary</th>\n",
              "      <th>Drama</th>\n",
              "      <th>Fantasy</th>\n",
              "      <th>Film-Noir</th>\n",
              "      <th>Horror</th>\n",
              "      <th>Musical</th>\n",
              "      <th>Mystery</th>\n",
              "      <th>Romance</th>\n",
              "      <th>Sci-Fi</th>\n",
              "      <th>Thriller</th>\n",
              "      <th>War</th>\n",
              "      <th>Western</th>\n",
              "    </tr>\n",
              "    <tr>\n",
              "      <th>movieid</th>\n",
              "      <th></th>\n",
              "      <th></th>\n",
              "      <th></th>\n",
              "      <th></th>\n",
              "      <th></th>\n",
              "      <th></th>\n",
              "      <th></th>\n",
              "      <th></th>\n",
              "      <th></th>\n",
              "      <th></th>\n",
              "      <th></th>\n",
              "      <th></th>\n",
              "      <th></th>\n",
              "      <th></th>\n",
              "      <th></th>\n",
              "      <th></th>\n",
              "      <th></th>\n",
              "      <th></th>\n",
              "      <th></th>\n",
              "      <th></th>\n",
              "      <th></th>\n",
              "      <th></th>\n",
              "      <th></th>\n",
              "    </tr>\n",
              "  </thead>\n",
              "  <tbody>\n",
              "    <tr>\n",
              "      <th>1</th>\n",
              "      <td>Toy Story (1995)</td>\n",
              "      <td>01-Jan-1995</td>\n",
              "      <td>NaN</td>\n",
              "      <td>http://us.imdb.com/M/title-exact?Toy%20Story%2...</td>\n",
              "      <td>0</td>\n",
              "      <td>0</td>\n",
              "      <td>0</td>\n",
              "      <td>1</td>\n",
              "      <td>1</td>\n",
              "      <td>1</td>\n",
              "      <td>0</td>\n",
              "      <td>0</td>\n",
              "      <td>0</td>\n",
              "      <td>0</td>\n",
              "      <td>0</td>\n",
              "      <td>0</td>\n",
              "      <td>0</td>\n",
              "      <td>0</td>\n",
              "      <td>0</td>\n",
              "      <td>0</td>\n",
              "      <td>0</td>\n",
              "      <td>0</td>\n",
              "      <td>0</td>\n",
              "    </tr>\n",
              "    <tr>\n",
              "      <th>2</th>\n",
              "      <td>GoldenEye (1995)</td>\n",
              "      <td>01-Jan-1995</td>\n",
              "      <td>NaN</td>\n",
              "      <td>http://us.imdb.com/M/title-exact?GoldenEye%20(...</td>\n",
              "      <td>0</td>\n",
              "      <td>1</td>\n",
              "      <td>1</td>\n",
              "      <td>0</td>\n",
              "      <td>0</td>\n",
              "      <td>0</td>\n",
              "      <td>0</td>\n",
              "      <td>0</td>\n",
              "      <td>0</td>\n",
              "      <td>0</td>\n",
              "      <td>0</td>\n",
              "      <td>0</td>\n",
              "      <td>0</td>\n",
              "      <td>0</td>\n",
              "      <td>0</td>\n",
              "      <td>0</td>\n",
              "      <td>1</td>\n",
              "      <td>0</td>\n",
              "      <td>0</td>\n",
              "    </tr>\n",
              "    <tr>\n",
              "      <th>3</th>\n",
              "      <td>Four Rooms (1995)</td>\n",
              "      <td>01-Jan-1995</td>\n",
              "      <td>NaN</td>\n",
              "      <td>http://us.imdb.com/M/title-exact?Four%20Rooms%...</td>\n",
              "      <td>0</td>\n",
              "      <td>0</td>\n",
              "      <td>0</td>\n",
              "      <td>0</td>\n",
              "      <td>0</td>\n",
              "      <td>0</td>\n",
              "      <td>0</td>\n",
              "      <td>0</td>\n",
              "      <td>0</td>\n",
              "      <td>0</td>\n",
              "      <td>0</td>\n",
              "      <td>0</td>\n",
              "      <td>0</td>\n",
              "      <td>0</td>\n",
              "      <td>0</td>\n",
              "      <td>0</td>\n",
              "      <td>1</td>\n",
              "      <td>0</td>\n",
              "      <td>0</td>\n",
              "    </tr>\n",
              "    <tr>\n",
              "      <th>4</th>\n",
              "      <td>Get Shorty (1995)</td>\n",
              "      <td>01-Jan-1995</td>\n",
              "      <td>NaN</td>\n",
              "      <td>http://us.imdb.com/M/title-exact?Get%20Shorty%...</td>\n",
              "      <td>0</td>\n",
              "      <td>1</td>\n",
              "      <td>0</td>\n",
              "      <td>0</td>\n",
              "      <td>0</td>\n",
              "      <td>1</td>\n",
              "      <td>0</td>\n",
              "      <td>0</td>\n",
              "      <td>1</td>\n",
              "      <td>0</td>\n",
              "      <td>0</td>\n",
              "      <td>0</td>\n",
              "      <td>0</td>\n",
              "      <td>0</td>\n",
              "      <td>0</td>\n",
              "      <td>0</td>\n",
              "      <td>0</td>\n",
              "      <td>0</td>\n",
              "      <td>0</td>\n",
              "    </tr>\n",
              "    <tr>\n",
              "      <th>5</th>\n",
              "      <td>Copycat (1995)</td>\n",
              "      <td>01-Jan-1995</td>\n",
              "      <td>NaN</td>\n",
              "      <td>http://us.imdb.com/M/title-exact?Copycat%20(1995)</td>\n",
              "      <td>0</td>\n",
              "      <td>0</td>\n",
              "      <td>0</td>\n",
              "      <td>0</td>\n",
              "      <td>0</td>\n",
              "      <td>0</td>\n",
              "      <td>1</td>\n",
              "      <td>0</td>\n",
              "      <td>1</td>\n",
              "      <td>0</td>\n",
              "      <td>0</td>\n",
              "      <td>0</td>\n",
              "      <td>0</td>\n",
              "      <td>0</td>\n",
              "      <td>0</td>\n",
              "      <td>0</td>\n",
              "      <td>1</td>\n",
              "      <td>0</td>\n",
              "      <td>0</td>\n",
              "    </tr>\n",
              "  </tbody>\n",
              "</table>\n",
              "</div>"
            ],
            "text/plain": [
              "                     title release_date  video_release_date  \\\n",
              "movieid                                                       \n",
              "1         Toy Story (1995)  01-Jan-1995                 NaN   \n",
              "2         GoldenEye (1995)  01-Jan-1995                 NaN   \n",
              "3        Four Rooms (1995)  01-Jan-1995                 NaN   \n",
              "4        Get Shorty (1995)  01-Jan-1995                 NaN   \n",
              "5           Copycat (1995)  01-Jan-1995                 NaN   \n",
              "\n",
              "                                                  IMDb_URL  unknown  Action  \\\n",
              "movieid                                                                       \n",
              "1        http://us.imdb.com/M/title-exact?Toy%20Story%2...        0       0   \n",
              "2        http://us.imdb.com/M/title-exact?GoldenEye%20(...        0       1   \n",
              "3        http://us.imdb.com/M/title-exact?Four%20Rooms%...        0       0   \n",
              "4        http://us.imdb.com/M/title-exact?Get%20Shorty%...        0       1   \n",
              "5        http://us.imdb.com/M/title-exact?Copycat%20(1995)        0       0   \n",
              "\n",
              "         Adventure  Animation  Children  Comedy  Crime  Documentary  Drama  \\\n",
              "movieid                                                                      \n",
              "1                0          1         1       1      0            0      0   \n",
              "2                1          0         0       0      0            0      0   \n",
              "3                0          0         0       0      0            0      0   \n",
              "4                0          0         0       1      0            0      1   \n",
              "5                0          0         0       0      1            0      1   \n",
              "\n",
              "         Fantasy  Film-Noir  Horror  Musical  Mystery  Romance  Sci-Fi  \\\n",
              "movieid                                                                  \n",
              "1              0          0       0        0        0        0       0   \n",
              "2              0          0       0        0        0        0       0   \n",
              "3              0          0       0        0        0        0       0   \n",
              "4              0          0       0        0        0        0       0   \n",
              "5              0          0       0        0        0        0       0   \n",
              "\n",
              "         Thriller  War  Western  \n",
              "movieid                          \n",
              "1               0    0        0  \n",
              "2               1    0        0  \n",
              "3               1    0        0  \n",
              "4               0    0        0  \n",
              "5               1    0        0  "
            ]
          },
          "metadata": {},
          "execution_count": 4
        }
      ],
      "metadata": {
        "colab_type": "code",
        "id": "bVtvxJnr_yeK",
        "colab": {
          "base_uri": "https://localhost:8080/",
          "height": 391
        },
        "outputId": "d3051d10-7ea4-4eba-f531-742cf0a03ee1"
      }
    },
    {
      "cell_type": "markdown",
      "source": [
        "El comando `pd.options.display.max_columns = None` permite que la tabla se pueda mostrar completamente de forma horizontal, es decir, que muestre todas sus columnas."
      ],
      "metadata": {
        "id": "LW3ngD1aXffG",
        "colab_type": "text"
      }
    },
    {
      "cell_type": "code",
      "execution_count": 5,
      "source": [
        "info_file.info()"
      ],
      "outputs": [
        {
          "output_type": "stream",
          "name": "stdout",
          "text": [
            "<class 'pandas.core.frame.DataFrame'>\n",
            "Int64Index: 1682 entries, 1 to 1682\n",
            "Data columns (total 23 columns):\n",
            " #   Column              Non-Null Count  Dtype  \n",
            "---  ------              --------------  -----  \n",
            " 0   title               1682 non-null   object \n",
            " 1   release_date        1681 non-null   object \n",
            " 2   video_release_date  0 non-null      float64\n",
            " 3   IMDb_URL            1679 non-null   object \n",
            " 4   unknown             1682 non-null   int64  \n",
            " 5   Action              1682 non-null   int64  \n",
            " 6   Adventure           1682 non-null   int64  \n",
            " 7   Animation           1682 non-null   int64  \n",
            " 8   Children            1682 non-null   int64  \n",
            " 9   Comedy              1682 non-null   int64  \n",
            " 10  Crime               1682 non-null   int64  \n",
            " 11  Documentary         1682 non-null   int64  \n",
            " 12  Drama               1682 non-null   int64  \n",
            " 13  Fantasy             1682 non-null   int64  \n",
            " 14  Film-Noir           1682 non-null   int64  \n",
            " 15  Horror              1682 non-null   int64  \n",
            " 16  Musical             1682 non-null   int64  \n",
            " 17  Mystery             1682 non-null   int64  \n",
            " 18  Romance             1682 non-null   int64  \n",
            " 19  Sci-Fi              1682 non-null   int64  \n",
            " 20  Thriller            1682 non-null   int64  \n",
            " 21  War                 1682 non-null   int64  \n",
            " 22  Western             1682 non-null   int64  \n",
            "dtypes: float64(1), int64(19), object(3)\n",
            "memory usage: 315.4+ KB\n"
          ]
        }
      ],
      "metadata": {
        "id": "nHxPjm-hXffH",
        "colab_type": "code",
        "colab": {
          "base_uri": "https://localhost:8080/",
          "height": 527
        },
        "outputId": "cf0cdcf5-0550-4f1c-d03d-51e05ab83bed"
      }
    },
    {
      "cell_type": "code",
      "execution_count": 6,
      "source": [
        "info_file.describe()"
      ],
      "outputs": [
        {
          "output_type": "execute_result",
          "data": {
            "text/html": [
              "<div>\n",
              "<style scoped>\n",
              "    .dataframe tbody tr th:only-of-type {\n",
              "        vertical-align: middle;\n",
              "    }\n",
              "\n",
              "    .dataframe tbody tr th {\n",
              "        vertical-align: top;\n",
              "    }\n",
              "\n",
              "    .dataframe thead th {\n",
              "        text-align: right;\n",
              "    }\n",
              "</style>\n",
              "<table border=\"1\" class=\"dataframe\">\n",
              "  <thead>\n",
              "    <tr style=\"text-align: right;\">\n",
              "      <th></th>\n",
              "      <th>video_release_date</th>\n",
              "      <th>unknown</th>\n",
              "      <th>Action</th>\n",
              "      <th>Adventure</th>\n",
              "      <th>Animation</th>\n",
              "      <th>Children</th>\n",
              "      <th>Comedy</th>\n",
              "      <th>Crime</th>\n",
              "      <th>Documentary</th>\n",
              "      <th>Drama</th>\n",
              "      <th>Fantasy</th>\n",
              "      <th>Film-Noir</th>\n",
              "      <th>Horror</th>\n",
              "      <th>Musical</th>\n",
              "      <th>Mystery</th>\n",
              "      <th>Romance</th>\n",
              "      <th>Sci-Fi</th>\n",
              "      <th>Thriller</th>\n",
              "      <th>War</th>\n",
              "      <th>Western</th>\n",
              "    </tr>\n",
              "  </thead>\n",
              "  <tbody>\n",
              "    <tr>\n",
              "      <th>count</th>\n",
              "      <td>0.0</td>\n",
              "      <td>1682.000000</td>\n",
              "      <td>1682.000000</td>\n",
              "      <td>1682.000000</td>\n",
              "      <td>1682.000000</td>\n",
              "      <td>1682.000000</td>\n",
              "      <td>1682.000000</td>\n",
              "      <td>1682.000000</td>\n",
              "      <td>1682.000000</td>\n",
              "      <td>1682.000000</td>\n",
              "      <td>1682.00000</td>\n",
              "      <td>1682.000000</td>\n",
              "      <td>1682.000000</td>\n",
              "      <td>1682.000000</td>\n",
              "      <td>1682.000000</td>\n",
              "      <td>1682.000000</td>\n",
              "      <td>1682.000000</td>\n",
              "      <td>1682.000000</td>\n",
              "      <td>1682.000000</td>\n",
              "      <td>1682.000000</td>\n",
              "    </tr>\n",
              "    <tr>\n",
              "      <th>mean</th>\n",
              "      <td>NaN</td>\n",
              "      <td>0.001189</td>\n",
              "      <td>0.149227</td>\n",
              "      <td>0.080262</td>\n",
              "      <td>0.024970</td>\n",
              "      <td>0.072533</td>\n",
              "      <td>0.300238</td>\n",
              "      <td>0.064804</td>\n",
              "      <td>0.029727</td>\n",
              "      <td>0.431034</td>\n",
              "      <td>0.01308</td>\n",
              "      <td>0.014269</td>\n",
              "      <td>0.054697</td>\n",
              "      <td>0.033294</td>\n",
              "      <td>0.036266</td>\n",
              "      <td>0.146849</td>\n",
              "      <td>0.060048</td>\n",
              "      <td>0.149227</td>\n",
              "      <td>0.042212</td>\n",
              "      <td>0.016052</td>\n",
              "    </tr>\n",
              "    <tr>\n",
              "      <th>std</th>\n",
              "      <td>NaN</td>\n",
              "      <td>0.034473</td>\n",
              "      <td>0.356418</td>\n",
              "      <td>0.271779</td>\n",
              "      <td>0.156081</td>\n",
              "      <td>0.259445</td>\n",
              "      <td>0.458498</td>\n",
              "      <td>0.246253</td>\n",
              "      <td>0.169882</td>\n",
              "      <td>0.495368</td>\n",
              "      <td>0.11365</td>\n",
              "      <td>0.118632</td>\n",
              "      <td>0.227455</td>\n",
              "      <td>0.179456</td>\n",
              "      <td>0.187008</td>\n",
              "      <td>0.354061</td>\n",
              "      <td>0.237646</td>\n",
              "      <td>0.356418</td>\n",
              "      <td>0.201131</td>\n",
              "      <td>0.125714</td>\n",
              "    </tr>\n",
              "    <tr>\n",
              "      <th>min</th>\n",
              "      <td>NaN</td>\n",
              "      <td>0.000000</td>\n",
              "      <td>0.000000</td>\n",
              "      <td>0.000000</td>\n",
              "      <td>0.000000</td>\n",
              "      <td>0.000000</td>\n",
              "      <td>0.000000</td>\n",
              "      <td>0.000000</td>\n",
              "      <td>0.000000</td>\n",
              "      <td>0.000000</td>\n",
              "      <td>0.00000</td>\n",
              "      <td>0.000000</td>\n",
              "      <td>0.000000</td>\n",
              "      <td>0.000000</td>\n",
              "      <td>0.000000</td>\n",
              "      <td>0.000000</td>\n",
              "      <td>0.000000</td>\n",
              "      <td>0.000000</td>\n",
              "      <td>0.000000</td>\n",
              "      <td>0.000000</td>\n",
              "    </tr>\n",
              "    <tr>\n",
              "      <th>25%</th>\n",
              "      <td>NaN</td>\n",
              "      <td>0.000000</td>\n",
              "      <td>0.000000</td>\n",
              "      <td>0.000000</td>\n",
              "      <td>0.000000</td>\n",
              "      <td>0.000000</td>\n",
              "      <td>0.000000</td>\n",
              "      <td>0.000000</td>\n",
              "      <td>0.000000</td>\n",
              "      <td>0.000000</td>\n",
              "      <td>0.00000</td>\n",
              "      <td>0.000000</td>\n",
              "      <td>0.000000</td>\n",
              "      <td>0.000000</td>\n",
              "      <td>0.000000</td>\n",
              "      <td>0.000000</td>\n",
              "      <td>0.000000</td>\n",
              "      <td>0.000000</td>\n",
              "      <td>0.000000</td>\n",
              "      <td>0.000000</td>\n",
              "    </tr>\n",
              "    <tr>\n",
              "      <th>50%</th>\n",
              "      <td>NaN</td>\n",
              "      <td>0.000000</td>\n",
              "      <td>0.000000</td>\n",
              "      <td>0.000000</td>\n",
              "      <td>0.000000</td>\n",
              "      <td>0.000000</td>\n",
              "      <td>0.000000</td>\n",
              "      <td>0.000000</td>\n",
              "      <td>0.000000</td>\n",
              "      <td>0.000000</td>\n",
              "      <td>0.00000</td>\n",
              "      <td>0.000000</td>\n",
              "      <td>0.000000</td>\n",
              "      <td>0.000000</td>\n",
              "      <td>0.000000</td>\n",
              "      <td>0.000000</td>\n",
              "      <td>0.000000</td>\n",
              "      <td>0.000000</td>\n",
              "      <td>0.000000</td>\n",
              "      <td>0.000000</td>\n",
              "    </tr>\n",
              "    <tr>\n",
              "      <th>75%</th>\n",
              "      <td>NaN</td>\n",
              "      <td>0.000000</td>\n",
              "      <td>0.000000</td>\n",
              "      <td>0.000000</td>\n",
              "      <td>0.000000</td>\n",
              "      <td>0.000000</td>\n",
              "      <td>1.000000</td>\n",
              "      <td>0.000000</td>\n",
              "      <td>0.000000</td>\n",
              "      <td>1.000000</td>\n",
              "      <td>0.00000</td>\n",
              "      <td>0.000000</td>\n",
              "      <td>0.000000</td>\n",
              "      <td>0.000000</td>\n",
              "      <td>0.000000</td>\n",
              "      <td>0.000000</td>\n",
              "      <td>0.000000</td>\n",
              "      <td>0.000000</td>\n",
              "      <td>0.000000</td>\n",
              "      <td>0.000000</td>\n",
              "    </tr>\n",
              "    <tr>\n",
              "      <th>max</th>\n",
              "      <td>NaN</td>\n",
              "      <td>1.000000</td>\n",
              "      <td>1.000000</td>\n",
              "      <td>1.000000</td>\n",
              "      <td>1.000000</td>\n",
              "      <td>1.000000</td>\n",
              "      <td>1.000000</td>\n",
              "      <td>1.000000</td>\n",
              "      <td>1.000000</td>\n",
              "      <td>1.000000</td>\n",
              "      <td>1.00000</td>\n",
              "      <td>1.000000</td>\n",
              "      <td>1.000000</td>\n",
              "      <td>1.000000</td>\n",
              "      <td>1.000000</td>\n",
              "      <td>1.000000</td>\n",
              "      <td>1.000000</td>\n",
              "      <td>1.000000</td>\n",
              "      <td>1.000000</td>\n",
              "      <td>1.000000</td>\n",
              "    </tr>\n",
              "  </tbody>\n",
              "</table>\n",
              "</div>"
            ],
            "text/plain": [
              "       video_release_date      unknown       Action    Adventure    Animation  \\\n",
              "count                 0.0  1682.000000  1682.000000  1682.000000  1682.000000   \n",
              "mean                  NaN     0.001189     0.149227     0.080262     0.024970   \n",
              "std                   NaN     0.034473     0.356418     0.271779     0.156081   \n",
              "min                   NaN     0.000000     0.000000     0.000000     0.000000   \n",
              "25%                   NaN     0.000000     0.000000     0.000000     0.000000   \n",
              "50%                   NaN     0.000000     0.000000     0.000000     0.000000   \n",
              "75%                   NaN     0.000000     0.000000     0.000000     0.000000   \n",
              "max                   NaN     1.000000     1.000000     1.000000     1.000000   \n",
              "\n",
              "          Children       Comedy        Crime  Documentary        Drama  \\\n",
              "count  1682.000000  1682.000000  1682.000000  1682.000000  1682.000000   \n",
              "mean      0.072533     0.300238     0.064804     0.029727     0.431034   \n",
              "std       0.259445     0.458498     0.246253     0.169882     0.495368   \n",
              "min       0.000000     0.000000     0.000000     0.000000     0.000000   \n",
              "25%       0.000000     0.000000     0.000000     0.000000     0.000000   \n",
              "50%       0.000000     0.000000     0.000000     0.000000     0.000000   \n",
              "75%       0.000000     1.000000     0.000000     0.000000     1.000000   \n",
              "max       1.000000     1.000000     1.000000     1.000000     1.000000   \n",
              "\n",
              "          Fantasy    Film-Noir       Horror      Musical      Mystery  \\\n",
              "count  1682.00000  1682.000000  1682.000000  1682.000000  1682.000000   \n",
              "mean      0.01308     0.014269     0.054697     0.033294     0.036266   \n",
              "std       0.11365     0.118632     0.227455     0.179456     0.187008   \n",
              "min       0.00000     0.000000     0.000000     0.000000     0.000000   \n",
              "25%       0.00000     0.000000     0.000000     0.000000     0.000000   \n",
              "50%       0.00000     0.000000     0.000000     0.000000     0.000000   \n",
              "75%       0.00000     0.000000     0.000000     0.000000     0.000000   \n",
              "max       1.00000     1.000000     1.000000     1.000000     1.000000   \n",
              "\n",
              "           Romance       Sci-Fi     Thriller          War      Western  \n",
              "count  1682.000000  1682.000000  1682.000000  1682.000000  1682.000000  \n",
              "mean      0.146849     0.060048     0.149227     0.042212     0.016052  \n",
              "std       0.354061     0.237646     0.356418     0.201131     0.125714  \n",
              "min       0.000000     0.000000     0.000000     0.000000     0.000000  \n",
              "25%       0.000000     0.000000     0.000000     0.000000     0.000000  \n",
              "50%       0.000000     0.000000     0.000000     0.000000     0.000000  \n",
              "75%       0.000000     0.000000     0.000000     0.000000     0.000000  \n",
              "max       1.000000     1.000000     1.000000     1.000000     1.000000  "
            ]
          },
          "metadata": {},
          "execution_count": 6
        }
      ],
      "metadata": {
        "id": "Ktd24wI4XffJ",
        "colab_type": "code",
        "colab": {
          "base_uri": "https://localhost:8080/",
          "height": 317
        },
        "outputId": "9988a951-b047-4ce4-d7b3-139e1b02902a"
      }
    },
    {
      "cell_type": "markdown",
      "source": [
        "Con las funciones `info` y `describe` de ***pandas*** es una buena forma de analizar a grandes rasgos un dataset."
      ],
      "metadata": {
        "id": "X4Gm60h1XffL",
        "colab_type": "text"
      }
    },
    {
      "cell_type": "markdown",
      "source": [
        "## Como ver la información de una o más películas\n",
        "Para esto se hace 2 pasos, \n",
        "1. Determinar los índices de las películas\n",
        "2. Pedir a `info_file` las columnas\n",
        "3. (adicional) Indicar alguna columna en específico"
      ],
      "metadata": {
        "colab_type": "text",
        "id": "jqXxj773Foo8"
      }
    },
    {
      "cell_type": "code",
      "execution_count": 7,
      "source": [
        "# Ejemplo de cómo visualizar títulos de películas en base a sus IDs\n",
        "\n",
        "# Paso 1\n",
        "pelis = [5,4,1]\n",
        "# Paso 2\n",
        "info_file.loc[pelis]"
      ],
      "outputs": [
        {
          "output_type": "execute_result",
          "data": {
            "text/html": [
              "<div>\n",
              "<style scoped>\n",
              "    .dataframe tbody tr th:only-of-type {\n",
              "        vertical-align: middle;\n",
              "    }\n",
              "\n",
              "    .dataframe tbody tr th {\n",
              "        vertical-align: top;\n",
              "    }\n",
              "\n",
              "    .dataframe thead th {\n",
              "        text-align: right;\n",
              "    }\n",
              "</style>\n",
              "<table border=\"1\" class=\"dataframe\">\n",
              "  <thead>\n",
              "    <tr style=\"text-align: right;\">\n",
              "      <th></th>\n",
              "      <th>title</th>\n",
              "      <th>release_date</th>\n",
              "      <th>video_release_date</th>\n",
              "      <th>IMDb_URL</th>\n",
              "      <th>unknown</th>\n",
              "      <th>Action</th>\n",
              "      <th>Adventure</th>\n",
              "      <th>Animation</th>\n",
              "      <th>Children</th>\n",
              "      <th>Comedy</th>\n",
              "      <th>Crime</th>\n",
              "      <th>Documentary</th>\n",
              "      <th>Drama</th>\n",
              "      <th>Fantasy</th>\n",
              "      <th>Film-Noir</th>\n",
              "      <th>Horror</th>\n",
              "      <th>Musical</th>\n",
              "      <th>Mystery</th>\n",
              "      <th>Romance</th>\n",
              "      <th>Sci-Fi</th>\n",
              "      <th>Thriller</th>\n",
              "      <th>War</th>\n",
              "      <th>Western</th>\n",
              "    </tr>\n",
              "    <tr>\n",
              "      <th>movieid</th>\n",
              "      <th></th>\n",
              "      <th></th>\n",
              "      <th></th>\n",
              "      <th></th>\n",
              "      <th></th>\n",
              "      <th></th>\n",
              "      <th></th>\n",
              "      <th></th>\n",
              "      <th></th>\n",
              "      <th></th>\n",
              "      <th></th>\n",
              "      <th></th>\n",
              "      <th></th>\n",
              "      <th></th>\n",
              "      <th></th>\n",
              "      <th></th>\n",
              "      <th></th>\n",
              "      <th></th>\n",
              "      <th></th>\n",
              "      <th></th>\n",
              "      <th></th>\n",
              "      <th></th>\n",
              "      <th></th>\n",
              "    </tr>\n",
              "  </thead>\n",
              "  <tbody>\n",
              "    <tr>\n",
              "      <th>5</th>\n",
              "      <td>Copycat (1995)</td>\n",
              "      <td>01-Jan-1995</td>\n",
              "      <td>NaN</td>\n",
              "      <td>http://us.imdb.com/M/title-exact?Copycat%20(1995)</td>\n",
              "      <td>0</td>\n",
              "      <td>0</td>\n",
              "      <td>0</td>\n",
              "      <td>0</td>\n",
              "      <td>0</td>\n",
              "      <td>0</td>\n",
              "      <td>1</td>\n",
              "      <td>0</td>\n",
              "      <td>1</td>\n",
              "      <td>0</td>\n",
              "      <td>0</td>\n",
              "      <td>0</td>\n",
              "      <td>0</td>\n",
              "      <td>0</td>\n",
              "      <td>0</td>\n",
              "      <td>0</td>\n",
              "      <td>1</td>\n",
              "      <td>0</td>\n",
              "      <td>0</td>\n",
              "    </tr>\n",
              "    <tr>\n",
              "      <th>4</th>\n",
              "      <td>Get Shorty (1995)</td>\n",
              "      <td>01-Jan-1995</td>\n",
              "      <td>NaN</td>\n",
              "      <td>http://us.imdb.com/M/title-exact?Get%20Shorty%...</td>\n",
              "      <td>0</td>\n",
              "      <td>1</td>\n",
              "      <td>0</td>\n",
              "      <td>0</td>\n",
              "      <td>0</td>\n",
              "      <td>1</td>\n",
              "      <td>0</td>\n",
              "      <td>0</td>\n",
              "      <td>1</td>\n",
              "      <td>0</td>\n",
              "      <td>0</td>\n",
              "      <td>0</td>\n",
              "      <td>0</td>\n",
              "      <td>0</td>\n",
              "      <td>0</td>\n",
              "      <td>0</td>\n",
              "      <td>0</td>\n",
              "      <td>0</td>\n",
              "      <td>0</td>\n",
              "    </tr>\n",
              "    <tr>\n",
              "      <th>1</th>\n",
              "      <td>Toy Story (1995)</td>\n",
              "      <td>01-Jan-1995</td>\n",
              "      <td>NaN</td>\n",
              "      <td>http://us.imdb.com/M/title-exact?Toy%20Story%2...</td>\n",
              "      <td>0</td>\n",
              "      <td>0</td>\n",
              "      <td>0</td>\n",
              "      <td>1</td>\n",
              "      <td>1</td>\n",
              "      <td>1</td>\n",
              "      <td>0</td>\n",
              "      <td>0</td>\n",
              "      <td>0</td>\n",
              "      <td>0</td>\n",
              "      <td>0</td>\n",
              "      <td>0</td>\n",
              "      <td>0</td>\n",
              "      <td>0</td>\n",
              "      <td>0</td>\n",
              "      <td>0</td>\n",
              "      <td>0</td>\n",
              "      <td>0</td>\n",
              "      <td>0</td>\n",
              "    </tr>\n",
              "  </tbody>\n",
              "</table>\n",
              "</div>"
            ],
            "text/plain": [
              "                     title release_date  video_release_date  \\\n",
              "movieid                                                       \n",
              "5           Copycat (1995)  01-Jan-1995                 NaN   \n",
              "4        Get Shorty (1995)  01-Jan-1995                 NaN   \n",
              "1         Toy Story (1995)  01-Jan-1995                 NaN   \n",
              "\n",
              "                                                  IMDb_URL  unknown  Action  \\\n",
              "movieid                                                                       \n",
              "5        http://us.imdb.com/M/title-exact?Copycat%20(1995)        0       0   \n",
              "4        http://us.imdb.com/M/title-exact?Get%20Shorty%...        0       1   \n",
              "1        http://us.imdb.com/M/title-exact?Toy%20Story%2...        0       0   \n",
              "\n",
              "         Adventure  Animation  Children  Comedy  Crime  Documentary  Drama  \\\n",
              "movieid                                                                      \n",
              "5                0          0         0       0      1            0      1   \n",
              "4                0          0         0       1      0            0      1   \n",
              "1                0          1         1       1      0            0      0   \n",
              "\n",
              "         Fantasy  Film-Noir  Horror  Musical  Mystery  Romance  Sci-Fi  \\\n",
              "movieid                                                                  \n",
              "5              0          0       0        0        0        0       0   \n",
              "4              0          0       0        0        0        0       0   \n",
              "1              0          0       0        0        0        0       0   \n",
              "\n",
              "         Thriller  War  Western  \n",
              "movieid                          \n",
              "5               1    0        0  \n",
              "4               0    0        0  \n",
              "1               0    0        0  "
            ]
          },
          "metadata": {},
          "execution_count": 7
        }
      ],
      "metadata": {
        "colab_type": "code",
        "id": "3JsjHzBFGqQI",
        "colab": {
          "base_uri": "https://localhost:8080/",
          "height": 312
        },
        "outputId": "e6bbf9ea-b5f6-45fa-a136-02c786bd7f49"
      }
    },
    {
      "cell_type": "markdown",
      "source": [
        "Para éste código:\n",
        "1. `pelis = [5,4,1]` indica que queremos las películas cuyo índice son 5, 4 y 1\n",
        "2. `info_file.loc[pelis]` el método `loc` permite acceder a esas columna\n",
        "A continuación se verá como obtener una columna en específico. Para esto solo es necesario agregar corchetes y el nombre de la columna"
      ],
      "metadata": {
        "colab_type": "text",
        "id": "2YDbWo18GwAT"
      }
    },
    {
      "cell_type": "code",
      "execution_count": 8,
      "source": [
        "# Paso 3 (opcional)\n",
        "info_file.loc[pelis]['title']"
      ],
      "outputs": [
        {
          "output_type": "execute_result",
          "data": {
            "text/plain": [
              "movieid\n",
              "5       Copycat (1995)\n",
              "4    Get Shorty (1995)\n",
              "1     Toy Story (1995)\n",
              "Name: title, dtype: object"
            ]
          },
          "metadata": {},
          "execution_count": 8
        }
      ],
      "metadata": {
        "colab_type": "code",
        "id": "gZZ3g-n7G9EY",
        "colab": {
          "base_uri": "https://localhost:8080/",
          "height": 102
        },
        "outputId": "102abee8-c599-4ac8-e015-4082160a35bb"
      }
    },
    {
      "cell_type": "markdown",
      "source": [
        "## Preparar entorno\n",
        "Primero es necesario instalar una librería para realizar recomendaciones. Esta se llama [***pyreclab***](https://github.com/gasevi/pyreclab)"
      ],
      "metadata": {
        "colab_type": "text",
        "id": "P3K5VPZoGSYX"
      }
    },
    {
      "cell_type": "code",
      "execution_count": 37,
      "source": [
        "!pip install pyreclab"
      ],
      "outputs": [
        {
          "output_type": "stream",
          "name": "stdout",
          "text": [
            "Requirement already satisfied: pyreclab in /usr/local/lib/python3.6/dist-packages (0.1.14)\n"
          ]
        }
      ],
      "metadata": {
        "colab_type": "code",
        "id": "nbtrMHvG6uIt",
        "colab": {
          "base_uri": "https://localhost:8080/",
          "height": 34
        },
        "outputId": "05ef1e2f-cc94-4005-c59e-22b0d1b74deb"
      }
    },
    {
      "cell_type": "markdown",
      "source": [
        "Luego necesitamos importar pyreclab y numpy, librerías que utilizaremos en este práctico"
      ],
      "metadata": {
        "colab_type": "text",
        "id": "8xjAMaNz-4dO"
      }
    },
    {
      "cell_type": "code",
      "execution_count": 9,
      "source": [
        "import pyreclab\n",
        "import numpy as np"
      ],
      "outputs": [],
      "metadata": {
        "colab_type": "code",
        "id": "nv7g1e_i6wBY",
        "colab": {}
      }
    },
    {
      "cell_type": "markdown",
      "source": [
        "## UserKNN\n",
        "\n",
        "Probar método de recomendación basado en ***UserKNN***"
      ],
      "metadata": {
        "colab_type": "text",
        "id": "2e0ZeZXzMhU3"
      }
    },
    {
      "cell_type": "code",
      "execution_count": 11,
      "source": [
        "# Declarar el objeto recomendador UserKnn\n",
        "myUserKnn = pyreclab.UserKnn(dataset='u2.base',\n",
        "                             dlmchar=b'\\t',\n",
        "                             header=False,\n",
        "                             usercol=0,\n",
        "                             itemcol=1,\n",
        "                             ratingcol=2)"
      ],
      "outputs": [],
      "metadata": {
        "colab_type": "code",
        "id": "ONuL2UkwaqPH",
        "colab": {}
      }
    },
    {
      "cell_type": "markdown",
      "source": [
        "Se puede ver que al objeto recomendador le estamos entregando:\n",
        "* ***dataset***: La ruta al dataset, en este caso está en la misma carpeta que este notebook\n",
        "* ***dlmchar***: El delimitador del archivo, en este caso las columnas estan separadas por un tab (\\t)\n",
        "* ***header***: Si el dataset tiene una fila de header (por ejemplo los nombres de las columnas)\n",
        "* ***usercol***: número de cuál columna corresponde a los usuarios\n",
        "* ***itemcol***: número de cuál columna corresponde a los items\n",
        "* ***ratingcol***: número de cuál columna corresponde a los ratings"
      ],
      "metadata": {
        "id": "yA1wZymAZtjR",
        "colab_type": "text"
      }
    },
    {
      "cell_type": "code",
      "execution_count": 12,
      "source": [
        "# Entrenamos el modelo con los datos existentes\n",
        "# Recuerde que en este método puede probar el parámetro k de cantidad de vecinos\n",
        "# Así como la métrica de similaridad (pearson, cosine)\n",
        "myUserKnn.train(k=7, similarity='pearson')"
      ],
      "outputs": [],
      "metadata": {
        "colab_type": "code",
        "id": "uhjC9eRYaqPK",
        "colab": {}
      }
    },
    {
      "cell_type": "markdown",
      "source": [
        "## Predecir el rating que le dará un usuario a un cierto item"
      ],
      "metadata": {
        "id": "lEx2TVc1B5wk",
        "colab_type": "text"
      }
    },
    {
      "cell_type": "markdown",
      "source": [
        "Según el modelo de recomendación UserKnn, qué rating le dará el usuario 457 al item 37?\n",
        "\n"
      ],
      "metadata": {
        "colab_type": "text",
        "id": "I-iqQvAdTTCP"
      }
    },
    {
      "cell_type": "code",
      "execution_count": 13,
      "source": [
        "myUserKnn.predict(\"457\", \"37\")"
      ],
      "outputs": [
        {
          "output_type": "execute_result",
          "data": {
            "text/plain": [
              "3.25232195854187"
            ]
          },
          "metadata": {},
          "execution_count": 13
        }
      ],
      "metadata": {
        "colab_type": "code",
        "id": "rGrmht_6JfFG",
        "colab": {
          "base_uri": "https://localhost:8080/",
          "height": 34
        },
        "outputId": "45aa8dc5-0315-4bcb-d71f-b60c497841fb"
      }
    },
    {
      "cell_type": "markdown",
      "source": [
        "## Generar una lista de recomendaciones para un usuario"
      ],
      "metadata": {
        "id": "dIVXNsQ8CCJV",
        "colab_type": "text"
      }
    },
    {
      "cell_type": "markdown",
      "source": [
        "Generar lista de 5 recomendaciones para el usuario con ID 457. Indique qué películas son con todas sus columnas. (Recuerde el comando `loc` vista anteriormete)"
      ],
      "metadata": {
        "colab_type": "text",
        "id": "Wp-2JLSBJhPv"
      }
    },
    {
      "cell_type": "code",
      "execution_count": 14,
      "source": [
        "reclist_userKnn = myUserKnn.recommend(\"457\", 5)\n",
        "pelis_userKnn = np.array(reclist_userKnn).astype(int)\n",
        "info_file.loc[pelis_userKnn]['title']"
      ],
      "outputs": [
        {
          "output_type": "execute_result",
          "data": {
            "text/plain": [
              "movieid\n",
              "814            Great Day in Harlem, A (1994)\n",
              "1491                 Tough and Deadly (1995)\n",
              "1367                            Faust (1994)\n",
              "1463                        Boys, Les (1997)\n",
              "1467    Saint of Fort Washington, The (1993)\n",
              "Name: title, dtype: object"
            ]
          },
          "metadata": {},
          "execution_count": 14
        }
      ],
      "metadata": {
        "colab_type": "code",
        "id": "otr7zq1jaqPR",
        "colab": {
          "base_uri": "https://localhost:8080/",
          "height": 136
        },
        "outputId": "b8ffcbe2-3e28-48db-a082-0b5816dd595f"
      }
    },
    {
      "cell_type": "markdown",
      "source": [
        "## Explorar los hiperparámetros del modelo UserKnn"
      ],
      "metadata": {
        "colab_type": "text",
        "id": "6_Kp3zRwJ9gv"
      }
    },
    {
      "cell_type": "markdown",
      "source": [
        "Uno de los parámetros que vamos a explorar es el número de vecinos escogidos (Items), para esto calculamos el error del modelo con varios valores de vecinos y observamos cómo es el comportamiento del error."
      ],
      "metadata": {
        "id": "yl2F77nHCcws",
        "colab_type": "text"
      }
    },
    {
      "cell_type": "code",
      "execution_count": 15,
      "source": [
        "k_values = [5, 10, 30, 50] # definir distintos valores de vecinos (k)\n",
        "mae_values = [] # para almacenar resultados de MAE\n",
        "rmse_values = [] # para almacenar valores de RMSE\n",
        "\n",
        "for k in k_values:\n",
        "  myUserKnn.train(k,'cosine')\n",
        "  predlist, mae, rmse = myUserKnn.test( input_file = 'u2.test',dlmchar = b'\\t', header = False, usercol = 0, itemcol = 1, ratingcol = 2, output_file = 'predictions.csv' )\n",
        "  rmse_values.append(rmse)\n",
        "  mae_values.append(mae)\n",
        "\n",
        "print('RMSE:', rmse_values)\n",
        "print('MAE:', mae_values)"
      ],
      "outputs": [
        {
          "output_type": "stream",
          "name": "stderr",
          "text": [
            "Warning: item id '1235' was not included in training set\n"
          ]
        },
        {
          "output_type": "stream",
          "name": "stdout",
          "text": [
            "RMSE: [0.9892174900701061, 0.9598961339770828, 0.9481774437287052, 0.9493413825750796]\n",
            "MAE: [0.7721242960899395, 0.7492370630025902, 0.7389477584341893, 0.7409246562525648]\n"
          ]
        },
        {
          "output_type": "stream",
          "name": "stderr",
          "text": [
            "Warning: item id '1290' was not included in training set\n",
            "Warning: item id '1339' was not included in training set\n",
            "Warning: item id '1340' was not included in training set\n",
            "Warning: item id '1349' was not included in training set\n",
            "Warning: item id '1359' was not included in training set\n",
            "Warning: item id '1363' was not included in training set\n",
            "Warning: item id '1447' was not included in training set\n",
            "Warning: item id '1453' was not included in training set\n",
            "Warning: item id '1461' was not included in training set\n",
            "Warning: item id '1476' was not included in training set\n",
            "Warning: item id '1507' was not included in training set\n",
            "Warning: item id '1510' was not included in training set\n",
            "Warning: item id '1525' was not included in training set\n",
            "Warning: item id '1526' was not included in training set\n",
            "Warning: item id '1290' was not included in training set\n",
            "Warning: item id '1359' was not included in training set\n",
            "Warning: item id '1559' was not included in training set\n",
            "Warning: item id '1566' was not included in training set\n",
            "Warning: item id '1568' was not included in training set\n",
            "Warning: item id '1569' was not included in training set\n",
            "Warning: item id '1571' was not included in training set\n",
            "Warning: item id '1575' was not included in training set\n",
            "Warning: item id '1576' was not included in training set\n",
            "Warning: item id '1579' was not included in training set\n",
            "Warning: item id '1580' was not included in training set\n",
            "Warning: item id '1583' was not included in training set\n",
            "Warning: item id '1587' was not included in training set\n",
            "Warning: item id '1593' was not included in training set\n",
            "Warning: item id '1596' was not included in training set\n",
            "Warning: item id '1601' was not included in training set\n",
            "Warning: item id '1603' was not included in training set\n",
            "Warning: item id '1616' was not included in training set\n",
            "Warning: item id '1619' was not included in training set\n",
            "Warning: item id '1624' was not included in training set\n",
            "Warning: item id '677' was not included in training set\n",
            "Warning: item id '1235' was not included in training set\n",
            "Warning: item id '1290' was not included in training set\n",
            "Warning: item id '1339' was not included in training set\n",
            "Warning: item id '1340' was not included in training set\n",
            "Warning: item id '1349' was not included in training set\n",
            "Warning: item id '1359' was not included in training set\n",
            "Warning: item id '1363' was not included in training set\n",
            "Warning: item id '1447' was not included in training set\n",
            "Warning: item id '1453' was not included in training set\n",
            "Warning: item id '1461' was not included in training set\n",
            "Warning: item id '1476' was not included in training set\n",
            "Warning: item id '1507' was not included in training set\n",
            "Warning: item id '1510' was not included in training set\n",
            "Warning: item id '1525' was not included in training set\n",
            "Warning: item id '1526' was not included in training set\n",
            "Warning: item id '1290' was not included in training set\n",
            "Warning: item id '1359' was not included in training set\n",
            "Warning: item id '1559' was not included in training set\n",
            "Warning: item id '1566' was not included in training set\n",
            "Warning: item id '1568' was not included in training set\n",
            "Warning: item id '1569' was not included in training set\n",
            "Warning: item id '1571' was not included in training set\n",
            "Warning: item id '1575' was not included in training set\n",
            "Warning: item id '1576' was not included in training set\n",
            "Warning: item id '1579' was not included in training set\n",
            "Warning: item id '1580' was not included in training set\n",
            "Warning: item id '1583' was not included in training set\n",
            "Warning: item id '1587' was not included in training set\n",
            "Warning: item id '1593' was not included in training set\n",
            "Warning: item id '1596' was not included in training set\n",
            "Warning: item id '1601' was not included in training set\n",
            "Warning: item id '1603' was not included in training set\n",
            "Warning: item id '1616' was not included in training set\n",
            "Warning: item id '1619' was not included in training set\n",
            "Warning: item id '1624' was not included in training set\n",
            "Warning: item id '677' was not included in training set\n",
            "Warning: item id '1235' was not included in training set\n",
            "Warning: item id '1290' was not included in training set\n",
            "Warning: item id '1339' was not included in training set\n",
            "Warning: item id '1340' was not included in training set\n",
            "Warning: item id '1349' was not included in training set\n",
            "Warning: item id '1359' was not included in training set\n",
            "Warning: item id '1363' was not included in training set\n",
            "Warning: item id '1447' was not included in training set\n",
            "Warning: item id '1453' was not included in training set\n",
            "Warning: item id '1461' was not included in training set\n",
            "Warning: item id '1476' was not included in training set\n",
            "Warning: item id '1507' was not included in training set\n",
            "Warning: item id '1510' was not included in training set\n",
            "Warning: item id '1525' was not included in training set\n",
            "Warning: item id '1526' was not included in training set\n",
            "Warning: item id '1290' was not included in training set\n",
            "Warning: item id '1359' was not included in training set\n",
            "Warning: item id '1559' was not included in training set\n",
            "Warning: item id '1566' was not included in training set\n",
            "Warning: item id '1568' was not included in training set\n",
            "Warning: item id '1569' was not included in training set\n",
            "Warning: item id '1571' was not included in training set\n",
            "Warning: item id '1575' was not included in training set\n",
            "Warning: item id '1576' was not included in training set\n",
            "Warning: item id '1579' was not included in training set\n",
            "Warning: item id '1580' was not included in training set\n",
            "Warning: item id '1583' was not included in training set\n",
            "Warning: item id '1587' was not included in training set\n",
            "Warning: item id '1593' was not included in training set\n",
            "Warning: item id '1596' was not included in training set\n",
            "Warning: item id '1601' was not included in training set\n",
            "Warning: item id '1603' was not included in training set\n",
            "Warning: item id '1616' was not included in training set\n",
            "Warning: item id '1619' was not included in training set\n",
            "Warning: item id '1624' was not included in training set\n",
            "Warning: item id '677' was not included in training set\n",
            "Warning: item id '1235' was not included in training set\n",
            "Warning: item id '1290' was not included in training set\n",
            "Warning: item id '1339' was not included in training set\n",
            "Warning: item id '1340' was not included in training set\n",
            "Warning: item id '1349' was not included in training set\n",
            "Warning: item id '1359' was not included in training set\n",
            "Warning: item id '1363' was not included in training set\n",
            "Warning: item id '1447' was not included in training set\n",
            "Warning: item id '1453' was not included in training set\n",
            "Warning: item id '1461' was not included in training set\n",
            "Warning: item id '1476' was not included in training set\n",
            "Warning: item id '1507' was not included in training set\n",
            "Warning: item id '1510' was not included in training set\n",
            "Warning: item id '1525' was not included in training set\n",
            "Warning: item id '1526' was not included in training set\n",
            "Warning: item id '1290' was not included in training set\n",
            "Warning: item id '1359' was not included in training set\n",
            "Warning: item id '1559' was not included in training set\n",
            "Warning: item id '1566' was not included in training set\n",
            "Warning: item id '1568' was not included in training set\n",
            "Warning: item id '1569' was not included in training set\n",
            "Warning: item id '1571' was not included in training set\n",
            "Warning: item id '1575' was not included in training set\n",
            "Warning: item id '1576' was not included in training set\n",
            "Warning: item id '1579' was not included in training set\n",
            "Warning: item id '1580' was not included in training set\n",
            "Warning: item id '1583' was not included in training set\n",
            "Warning: item id '1587' was not included in training set\n",
            "Warning: item id '1593' was not included in training set\n",
            "Warning: item id '1596' was not included in training set\n",
            "Warning: item id '1601' was not included in training set\n",
            "Warning: item id '1603' was not included in training set\n",
            "Warning: item id '1616' was not included in training set\n",
            "Warning: item id '1619' was not included in training set\n",
            "Warning: item id '1624' was not included in training set\n",
            "Warning: item id '677' was not included in training set\n"
          ]
        }
      ],
      "metadata": {
        "colab_type": "code",
        "id": "C-te1p0oaUU_",
        "colab": {
          "base_uri": "https://localhost:8080/",
          "height": 51
        },
        "outputId": "b2a57a7f-8e00-4883-fd61-97d8b009cee9"
      }
    },
    {
      "cell_type": "markdown",
      "source": [
        "### Evaluar en base a error de prediccion (RMSE y MAE)"
      ],
      "metadata": {
        "id": "g55SDLmqCpUo",
        "colab_type": "text"
      }
    },
    {
      "cell_type": "code",
      "execution_count": 16,
      "source": [
        "import matplotlib.pyplot as plt\n",
        "%matplotlib inline\n",
        "\n",
        "plt.plot(k_values, rmse_values, 'r-')\n",
        "plt.plot(k_values, rmse_values, 'bo')\n",
        "plt.show()"
      ],
      "outputs": [
        {
          "output_type": "display_data",
          "data": {
            "image/png": "[encoded data removed]",
            "text/plain": [
              "<Figure size 432x288 with 1 Axes>"
            ]
          },
          "metadata": {
            "needs_background": "light"
          }
        }
      ],
      "metadata": {
        "colab_type": "code",
        "id": "q9E0YClOjPGb",
        "colab": {
          "base_uri": "https://localhost:8080/",
          "height": 265
        },
        "outputId": "2057dcdb-73da-4cff-e562-5c06f2c739f7"
      }
    },
    {
      "cell_type": "code",
      "execution_count": 17,
      "source": [
        "plt.plot(k_values, mae_values, 'y-')\n",
        "plt.plot(k_values, mae_values, 'go')\n",
        "plt.show()"
      ],
      "outputs": [
        {
          "output_type": "display_data",
          "data": {
            "image/png": "[encoded data removed]",
            "text/plain": [
              "<Figure size 432x288 with 1 Axes>"
            ]
          },
          "metadata": {
            "needs_background": "light"
          }
        }
      ],
      "metadata": {
        "id": "5Mdf79WsDfWX",
        "colab_type": "code",
        "colab": {
          "base_uri": "https://localhost:8080/",
          "height": 265
        },
        "outputId": "77cd7499-7c55-4e10-c776-1b6328502e2b"
      }
    },
    {
      "cell_type": "markdown",
      "source": [
        "Según los resultados: ¿ qué numero de vecinos es mejor para hacer recomendaciones con un menor error de predicción ?\n",
        "\n",
        "Podemos observar que el menor error se da con **k=30**, por lo tanto podemos reentrenar con este valor y ver loa resultados."
      ],
      "metadata": {
        "colab_type": "text",
        "id": "jrjMzM5zioaP"
      }
    },
    {
      "cell_type": "code",
      "execution_count": 18,
      "source": [
        "myUserKnn.train(k=30, similarity='cosine')"
      ],
      "outputs": [],
      "metadata": {
        "id": "S4E3V84Ybl6E",
        "colab_type": "code",
        "colab": {}
      }
    },
    {
      "cell_type": "code",
      "execution_count": 19,
      "source": [
        "reclist_userKnn = myUserKnn.recommend(\"457\", 5)\n",
        "pelis_userKnn = np.array(reclist_userKnn).astype(int)\n",
        "info_file.loc[pelis_userKnn]['title']"
      ],
      "outputs": [
        {
          "output_type": "execute_result",
          "data": {
            "text/plain": [
              "movieid\n",
              "814              Great Day in Harlem, A (1994)\n",
              "1463                          Boys, Les (1997)\n",
              "1536                      Aiqing wansui (1994)\n",
              "1512    World of Apu, The (Apur Sansar) (1959)\n",
              "1467      Saint of Fort Washington, The (1993)\n",
              "Name: title, dtype: object"
            ]
          },
          "metadata": {},
          "execution_count": 19
        }
      ],
      "metadata": {
        "id": "UEnG7ccVAL82",
        "colab_type": "code",
        "colab": {
          "base_uri": "https://localhost:8080/",
          "height": 136
        },
        "outputId": "b45dfa6d-9dde-4d3b-c835-4addf355bfa4"
      }
    }
  ]
}