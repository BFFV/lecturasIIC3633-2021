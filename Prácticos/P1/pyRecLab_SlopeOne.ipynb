{
 "cells": [
  {
   "cell_type": "markdown",
   "source": [
    "<a href=\"https://colab.research.google.com/github/PUC-RecSys-Class/RecSysPUC-2020/blob/master/practicos/pyRecLab_SlopeOne.ipynb\" target=\"_parent\"><img src=\"https://colab.research.google.com/assets/colab-badge.svg\" alt=\"Open In Colab\"/></a>\n"
   ],
   "metadata": {
    "colab_type": "text",
    "id": "view-in-github"
   }
  },
  {
   "cell_type": "markdown",
   "source": [
    "<a href=\"https://youtu.be/A2euuevpYis\" target=\"_parent\"><img src=\"https://upload.wikimedia.org/wikipedia/commons/thumb/0/09/YouTube_full-color_icon_%282017%29.svg/71px-YouTube_full-color_icon_%282017%29.svg.png\" alt=\"Open In Colab\"/></a>\n"
   ],
   "metadata": {
    "colab_type": "text",
    "id": "view-in-youtube"
   }
  },
  {
   "cell_type": "markdown",
   "source": [
    "# **Práctico Sistemas Recomendadores: pyreclab - Slope One**\n",
    "\n",
    "En este práctico seguiremos utilizando [pyreclab](https://github.com/gasevi/pyreclab), con el cual estamos aprendiendo distintas técnicas de recomendación. Seguiremos usando la misma base de datos de los prácticos anteriores, para que puedan comparar los métodos y sus implementaciones. Este práctico está acompañado de un [video comentando la actividad](https://youtu.be/A2euuevpYis).\n",
    "\n",
    "En esta oportunidad exploraremos el recomendador de Pendiente Uno o **Slope One** [1].\n",
    "\n",
    "**Adaptado y preparado por:** Francisca Cattan 📩 fpcattan@uc.cl\n",
    "\n",
    "Referencias 📖\n",
    "------\n",
    "[1] *Lemire, D., & Maclachlan, A. (2005, April). Slope One Predictors for Online Rating-Based Collaborative Filtering. In SDM (Vol. 5, pp. 1-5).*\n"
   ],
   "metadata": {
    "colab_type": "text",
    "id": "0kY7Xfgi84HC"
   }
  },
  {
   "cell_type": "markdown",
   "source": [
    "**Nombre**: Benjamín Farías V."
   ],
   "metadata": {
    "colab_type": "text",
    "id": "1s6Ac_Kh9qiH"
   }
  },
  {
   "cell_type": "markdown",
   "source": [
    "## Actividad 1 👓\n",
    "\n",
    "Antes de empezar con el práctico, responde la siguiente pregunta con lo visto en clases.\n",
    "\n",
    "**Pregunta:** Explique cómo funciona Slope One (como modelo teórico, no piense en la implementación). En particular explique:\n",
    "\n",
    "- Repasemos: ¿Por qué este recomendador es un algoritmo de Filtrado Colaborativo?\n",
    "- Este Filtrado Colaborativo, ¿está basado en el usuario o en los items? ¿Por qué?\n",
    "- ¿Qué datos recibe Slope One y qué hace con ellos? (qué tipo de columnas y qué calculo)\n",
    "- ¿Qué pasaría si se agrega un nuevo rating a la base de datos?\n",
    "- Opcional: ¿Cómo crees que le iría al recomendador con un usuario que acaba de entrar al sistema y ha asignado muy pocos ratings?\n",
    "\n",
    "💡 *Hint: La bibliografía todo lo puede.*\n",
    "\n",
    "**Respuesta:**\n",
    "\n",
    "\n"
   ],
   "metadata": {
    "colab_type": "text",
    "id": "Z4Jr74pP-4gt"
   }
  },
  {
   "cell_type": "code",
   "execution_count": 38,
   "source": [
    "import pyreclab\n",
    "import numpy as np\n",
    "import pandas as pd"
   ],
   "outputs": [],
   "metadata": {
    "colab": {},
    "colab_type": "code",
    "id": "KQ0jQ_JcN3el"
   }
  },
  {
   "cell_type": "markdown",
   "source": [
    "# **El dataset**\n",
    "\n",
    "💡 *En prácticos anteriores, vimos como analizar este dataset. Puedes revisarlos en caso de dudas.*"
   ],
   "metadata": {
    "colab_type": "text",
    "id": "bmxNQtXvfJy3"
   }
  },
  {
   "cell_type": "markdown",
   "source": [
    "## Paso 4:\n",
    "\n",
    "Ya que queremos crear una lista de recomendación de items para un usuario en especifico, necesitamos obtener información adicional de cada película tal como título, fecha de lanzamiento, género, etc. Cargaremos el archivo de items descargado \"u.item\" para poder mapear cada identificador de ítem al conjunto de datos que lo describe."
   ],
   "metadata": {
    "colab_type": "text",
    "id": "nAdXLT7haQe1"
   }
  },
  {
   "cell_type": "code",
   "execution_count": 39,
   "source": [
    "# Definimos el orden de las columnas\n",
    "info_cols = [ 'movieid', 'title', 'release_date', 'video_release_date', 'IMDb_URL', \\\n",
    "              'unknown', 'Action', 'Adventure', 'Animation', 'Children', 'Comedy', \\\n",
    "              'Crime', 'Documentary', 'Drama', 'Fantasy', 'Film-Noir', 'Horror', \\\n",
    "              'Musical', 'Mystery', 'Romance', 'Sci-Fi', 'Thriller', 'War', 'Western' ]\n",
    "\n",
    "# Asignamos a una variable la estructura de datos de los items\n",
    "info_file = pd.read_csv('u.item', sep='|', index_col = 0, names = info_cols, header=None, encoding='latin-1')"
   ],
   "outputs": [],
   "metadata": {
    "colab": {},
    "colab_type": "code",
    "id": "p0vHiGJheUkB"
   }
  },
  {
   "cell_type": "markdown",
   "source": [
    "# **Slope One**"
   ],
   "metadata": {
    "colab_type": "text",
    "id": "z4pjNDlMOOdo"
   }
  },
  {
   "cell_type": "markdown",
   "source": [
    "## Paso 5:\n",
    "\n",
    "Seguiremos un camino muy similar a los ejercicios de User KNN e Item KNN. Crearemos una instancia del algoritmo de recomendación y luego pasaremos a la fase de entrenamiento."
   ],
   "metadata": {
    "colab_type": "text",
    "id": "H5sx7xkfQE6W"
   }
  },
  {
   "cell_type": "code",
   "execution_count": 40,
   "source": [
    "# Declaramos la instancia SlopeOne\n",
    "mySlopeOne = pyreclab.SlopeOne(dataset='u1.base', dlmchar=b'\\t', header=False, usercol=0, itemcol=1, ratingcol=2)"
   ],
   "outputs": [],
   "metadata": {
    "colab": {},
    "colab_type": "code",
    "id": "v3D7CAoyPfko"
   }
  },
  {
   "cell_type": "code",
   "execution_count": 41,
   "source": [
    "# Y enntrenamos\n",
    "mySlopeOne.train()"
   ],
   "outputs": [],
   "metadata": {
    "colab": {},
    "colab_type": "code",
    "id": "EhacKomkTs51"
   }
  },
  {
   "cell_type": "markdown",
   "source": [
    "## Actividad 2 👓\n",
    "\n",
    "**Pregunta:** Explique qué hace el método `train()` en este caso, dado el modelo teórico. ¿Calcula información?, ¿no hace nada?, ¿ordena los datos? \n",
    "\n",
    "**Respuesta:**"
   ],
   "metadata": {
    "colab_type": "text",
    "id": "Wnb3DkVVTttZ"
   }
  },
  {
   "cell_type": "markdown",
   "source": [
    "## Paso 6:\n",
    "\n",
    "Llego la hora de predecir el rating."
   ],
   "metadata": {
    "colab_type": "text",
    "id": "XqR8bZB2VboJ"
   }
  },
  {
   "cell_type": "code",
   "execution_count": 42,
   "source": [
    "# Esta es la predicción de rating que el usuario ID:457 otorgaría al ítem ID:37\n",
    "# De esta forma podemos comparar el resultado con los prácticos anteriores\n",
    "mySlopeOne.predict(\"457\", \"37\")"
   ],
   "outputs": [
    {
     "output_type": "execute_result",
     "data": {
      "text/plain": [
       "3.2408759593963623"
      ]
     },
     "metadata": {
      "tags": []
     },
     "execution_count": 42
    }
   ],
   "metadata": {
    "colab": {
     "base_uri": "https://localhost:8080/",
     "height": 34
    },
    "colab_type": "code",
    "id": "H9yigNx9VYZ3",
    "outputId": "3c58b8ee-c431-4ec2-ac32-4f1ddb47b92e"
   }
  },
  {
   "cell_type": "code",
   "execution_count": 43,
   "source": [
    "# También podemos guardar la predicción en una variable\n",
    "prediction = mySlopeOne.predict(\"457\", \"37\")"
   ],
   "outputs": [],
   "metadata": {
    "colab": {},
    "colab_type": "code",
    "id": "-0ShLi6gYhh_"
   }
  },
  {
   "cell_type": "code",
   "execution_count": 44,
   "source": [
    "# Podemos comprobar las peliculas rankeadas por el usuario ID:457\n",
    "# Que ciertamente ha participado activamente (¡156 items!)\n",
    "train_file = pd.read_csv('u1.base', sep='\\t', names = ['userid', 'itemid', 'rating', 'timestamp'], header=None)\n",
    "train_file[train_file['userid'] == 457]"
   ],
   "outputs": [
    {
     "output_type": "execute_result",
     "data": {
      "text/html": [
       "<div>\n",
       "<style scoped>\n",
       "    .dataframe tbody tr th:only-of-type {\n",
       "        vertical-align: middle;\n",
       "    }\n",
       "\n",
       "    .dataframe tbody tr th {\n",
       "        vertical-align: top;\n",
       "    }\n",
       "\n",
       "    .dataframe thead th {\n",
       "        text-align: right;\n",
       "    }\n",
       "</style>\n",
       "<table border=\"1\" class=\"dataframe\">\n",
       "  <thead>\n",
       "    <tr style=\"text-align: right;\">\n",
       "      <th></th>\n",
       "      <th>userid</th>\n",
       "      <th>itemid</th>\n",
       "      <th>rating</th>\n",
       "      <th>timestamp</th>\n",
       "    </tr>\n",
       "  </thead>\n",
       "  <tbody>\n",
       "    <tr>\n",
       "      <th>37269</th>\n",
       "      <td>457</td>\n",
       "      <td>1</td>\n",
       "      <td>4</td>\n",
       "      <td>882393244</td>\n",
       "    </tr>\n",
       "    <tr>\n",
       "      <th>37270</th>\n",
       "      <td>457</td>\n",
       "      <td>7</td>\n",
       "      <td>4</td>\n",
       "      <td>882393278</td>\n",
       "    </tr>\n",
       "    <tr>\n",
       "      <th>37271</th>\n",
       "      <td>457</td>\n",
       "      <td>9</td>\n",
       "      <td>5</td>\n",
       "      <td>882393485</td>\n",
       "    </tr>\n",
       "    <tr>\n",
       "      <th>37272</th>\n",
       "      <td>457</td>\n",
       "      <td>11</td>\n",
       "      <td>4</td>\n",
       "      <td>882397020</td>\n",
       "    </tr>\n",
       "    <tr>\n",
       "      <th>37273</th>\n",
       "      <td>457</td>\n",
       "      <td>13</td>\n",
       "      <td>3</td>\n",
       "      <td>882393883</td>\n",
       "    </tr>\n",
       "    <tr>\n",
       "      <th>...</th>\n",
       "      <td>...</td>\n",
       "      <td>...</td>\n",
       "      <td>...</td>\n",
       "      <td>...</td>\n",
       "    </tr>\n",
       "    <tr>\n",
       "      <th>37420</th>\n",
       "      <td>457</td>\n",
       "      <td>1047</td>\n",
       "      <td>2</td>\n",
       "      <td>882395964</td>\n",
       "    </tr>\n",
       "    <tr>\n",
       "      <th>37421</th>\n",
       "      <td>457</td>\n",
       "      <td>1119</td>\n",
       "      <td>4</td>\n",
       "      <td>882398308</td>\n",
       "    </tr>\n",
       "    <tr>\n",
       "      <th>37422</th>\n",
       "      <td>457</td>\n",
       "      <td>1168</td>\n",
       "      <td>5</td>\n",
       "      <td>882548761</td>\n",
       "    </tr>\n",
       "    <tr>\n",
       "      <th>37423</th>\n",
       "      <td>457</td>\n",
       "      <td>1210</td>\n",
       "      <td>4</td>\n",
       "      <td>882549905</td>\n",
       "    </tr>\n",
       "    <tr>\n",
       "      <th>37424</th>\n",
       "      <td>457</td>\n",
       "      <td>1221</td>\n",
       "      <td>4</td>\n",
       "      <td>882549438</td>\n",
       "    </tr>\n",
       "  </tbody>\n",
       "</table>\n",
       "<p>156 rows × 4 columns</p>\n",
       "</div>"
      ],
      "text/plain": [
       "       userid  itemid  rating  timestamp\n",
       "37269     457       1       4  882393244\n",
       "37270     457       7       4  882393278\n",
       "37271     457       9       5  882393485\n",
       "37272     457      11       4  882397020\n",
       "37273     457      13       3  882393883\n",
       "...       ...     ...     ...        ...\n",
       "37420     457    1047       2  882395964\n",
       "37421     457    1119       4  882398308\n",
       "37422     457    1168       5  882548761\n",
       "37423     457    1210       4  882549905\n",
       "37424     457    1221       4  882549438\n",
       "\n",
       "[156 rows x 4 columns]"
      ]
     },
     "metadata": {
      "tags": []
     },
     "execution_count": 44
    }
   ],
   "metadata": {
    "colab": {
     "base_uri": "https://localhost:8080/",
     "height": 419
    },
    "colab_type": "code",
    "id": "2yFtdiVcUcKW",
    "outputId": "257c9bbc-584c-46a0-814d-c7cb048b5596"
   }
  },
  {
   "cell_type": "code",
   "execution_count": 45,
   "source": [
    "# Y también cuáles usuarios han rankeado la pelicula ID:37\n",
    "train_file[train_file['itemid'] == 37]"
   ],
   "outputs": [
    {
     "output_type": "execute_result",
     "data": {
      "text/html": [
       "<div>\n",
       "<style scoped>\n",
       "    .dataframe tbody tr th:only-of-type {\n",
       "        vertical-align: middle;\n",
       "    }\n",
       "\n",
       "    .dataframe tbody tr th {\n",
       "        vertical-align: top;\n",
       "    }\n",
       "\n",
       "    .dataframe thead th {\n",
       "        text-align: right;\n",
       "    }\n",
       "</style>\n",
       "<table border=\"1\" class=\"dataframe\">\n",
       "  <thead>\n",
       "    <tr style=\"text-align: right;\">\n",
       "      <th></th>\n",
       "      <th>userid</th>\n",
       "      <th>itemid</th>\n",
       "      <th>rating</th>\n",
       "      <th>timestamp</th>\n",
       "    </tr>\n",
       "  </thead>\n",
       "  <tbody>\n",
       "    <tr>\n",
       "      <th>1302</th>\n",
       "      <td>13</td>\n",
       "      <td>37</td>\n",
       "      <td>1</td>\n",
       "      <td>882397011</td>\n",
       "    </tr>\n",
       "    <tr>\n",
       "      <th>14851</th>\n",
       "      <td>201</td>\n",
       "      <td>37</td>\n",
       "      <td>2</td>\n",
       "      <td>884114635</td>\n",
       "    </tr>\n",
       "    <tr>\n",
       "      <th>19670</th>\n",
       "      <td>268</td>\n",
       "      <td>37</td>\n",
       "      <td>3</td>\n",
       "      <td>876514002</td>\n",
       "    </tr>\n",
       "    <tr>\n",
       "      <th>29489</th>\n",
       "      <td>363</td>\n",
       "      <td>37</td>\n",
       "      <td>2</td>\n",
       "      <td>891498510</td>\n",
       "    </tr>\n",
       "    <tr>\n",
       "      <th>31084</th>\n",
       "      <td>385</td>\n",
       "      <td>37</td>\n",
       "      <td>4</td>\n",
       "      <td>880013483</td>\n",
       "    </tr>\n",
       "    <tr>\n",
       "      <th>32996</th>\n",
       "      <td>405</td>\n",
       "      <td>37</td>\n",
       "      <td>1</td>\n",
       "      <td>885548384</td>\n",
       "    </tr>\n",
       "    <tr>\n",
       "      <th>62777</th>\n",
       "      <td>773</td>\n",
       "      <td>37</td>\n",
       "      <td>3</td>\n",
       "      <td>888540352</td>\n",
       "    </tr>\n",
       "  </tbody>\n",
       "</table>\n",
       "</div>"
      ],
      "text/plain": [
       "       userid  itemid  rating  timestamp\n",
       "1302       13      37       1  882397011\n",
       "14851     201      37       2  884114635\n",
       "19670     268      37       3  876514002\n",
       "29489     363      37       2  891498510\n",
       "31084     385      37       4  880013483\n",
       "32996     405      37       1  885548384\n",
       "62777     773      37       3  888540352"
      ]
     },
     "metadata": {
      "tags": []
     },
     "execution_count": 45
    }
   ],
   "metadata": {
    "colab": {
     "base_uri": "https://localhost:8080/",
     "height": 266
    },
    "colab_type": "code",
    "id": "liVoMHlAYhH_",
    "outputId": "fa37e458-633d-4937-d232-4825ae8fc3cc"
   }
  },
  {
   "cell_type": "markdown",
   "source": [
    "## Actividad 3 👓\n",
    "\n",
    "Haremos un pequeño experimento para entender mejor como funciona Slope One. Gracias al ejercicio anterior, sabemos que el usuario 457 ya ha asignado el mejor rating (5 ⭐) a las dos peliculas ID:9 e ID:1168. Comparemos.\n",
    "\n",
    "**Pregunta:** ¿Cómo se explican estos resultados?  \n",
    "\n",
    "**Respuesta:**"
   ],
   "metadata": {
    "colab_type": "text",
    "id": "u2P14hwFXytK"
   }
  },
  {
   "cell_type": "code",
   "execution_count": 46,
   "source": [
    "prediction_id9 = mySlopeOne.predict(\"457\", \"9\")\n",
    "prediction_id1168 = mySlopeOne.predict(\"457\", \"1168\")\n",
    "\n",
    "print('Prediction for ID:9 :', prediction_id9)\n",
    "print('Prediction for ID:1168 :', prediction_id1168)"
   ],
   "outputs": [
    {
     "output_type": "stream",
     "name": "stdout",
     "text": [
      "Prediction for ID:9 : 4.530702114105225\n",
      "Prediction for ID:1168 : 4.166153907775879\n"
     ]
    }
   ],
   "metadata": {
    "colab": {
     "base_uri": "https://localhost:8080/",
     "height": 51
    },
    "colab_type": "code",
    "id": "gaqUjAQaVseB",
    "outputId": "e26f5b40-0e11-4cbe-8bd3-f35fc4e6f68e"
   }
  },
  {
   "cell_type": "markdown",
   "source": [
    "## Paso 7:\n",
    "\n",
    "Generaremos ahora una lista ordenada de las top-N recomendaciones, dado un usuario.\n",
    "\n"
   ],
   "metadata": {
    "colab_type": "text",
    "id": "N8dIE2n_YYnV"
   }
  },
  {
   "cell_type": "code",
   "execution_count": 47,
   "source": [
    "# Mediante el método recommend() genereremos una lista top-5 recomendaciones para el usuario ID:457\n",
    "reclist_slopeone = mySlopeOne.recommend(\"457\", 5)\n",
    "\n",
    "# Y visualizaremos el resultado\n",
    "print('Lista de items según ID:', reclist_slopeone)"
   ],
   "outputs": [
    {
     "output_type": "stream",
     "name": "stdout",
     "text": [
      "Lista de items según ID: ['1592', '1589', '1656', '1431', '1653']\n"
     ]
    }
   ],
   "metadata": {
    "colab": {
     "base_uri": "https://localhost:8080/",
     "height": 34
    },
    "colab_type": "code",
    "id": "CVcJ1I1nZaK1",
    "outputId": "4f3d974b-611c-4293-aceb-6714b75d9238"
   }
  },
  {
   "cell_type": "code",
   "execution_count": 48,
   "source": [
    "# Lo convertimos a numpy array\n",
    "recmovies_slopeone = np.array(reclist_slopeone).astype(int)\n",
    "\n",
    "# Utilizamos la estructura de datos de los items para encontrar los títulos recomendados\n",
    "print('Lista de items por nombre:')\n",
    "info_file.loc[recmovies_slopeone]['title']"
   ],
   "outputs": [
    {
     "output_type": "stream",
     "name": "stdout",
     "text": [
      "Lista de items por nombre:\n"
     ]
    },
    {
     "output_type": "execute_result",
     "data": {
      "text/plain": [
       "movieid\n",
       "1592                               Magic Hour, The (1998)\n",
       "1589                                   Schizopolis (1996)\n",
       "1656                                   Little City (1998)\n",
       "1431                                  Legal Deceit (1997)\n",
       "1653    Entertaining Angels: The Dorothy Day Story (1996)\n",
       "Name: title, dtype: object"
      ]
     },
     "metadata": {
      "tags": []
     },
     "execution_count": 48
    }
   ],
   "metadata": {
    "colab": {
     "base_uri": "https://localhost:8080/",
     "height": 153
    },
    "colab_type": "code",
    "id": "BFdRZKQcZtHE",
    "outputId": "563f54db-1f10-4c67-87fc-8dcffc68e0e5"
   }
  },
  {
   "cell_type": "markdown",
   "source": [
    "## Actividad 4 👩🏻‍💻\n",
    "\n",
    "Genera una nueva recomendacion, modificando los hiperparametros de usuario y topN a tu elección.\n",
    "\n",
    "**Pregunta:** ¿Ves una diferencia en la recomendación entre el nuevo usuario y el usuario ID:457?\n",
    "\n",
    "**Respuesta:**"
   ],
   "metadata": {
    "colab_type": "text",
    "id": "NlX6FLTxdPRm"
   }
  },
  {
   "cell_type": "code",
   "execution_count": null,
   "source": [
    "# Escribe el nuevo codigo aqui\n"
   ],
   "outputs": [],
   "metadata": {
    "colab": {},
    "colab_type": "code",
    "id": "YQM7mfwDdY3j"
   }
  },
  {
   "cell_type": "markdown",
   "source": [
    "## Actividad 5 👩🏻‍💻\n",
    "\n",
    "Dado el usuario ID:44, cree dos listas de películas recomendadas; la primera utilizando el algoritmo Most Popular y la segunda utilizando el algoritmo Slope One.\n",
    "\n",
    "**Pregunta:** Realice un analisis apreciativo de las similitudes y diferencias entre ambas recomendaciones.\n",
    "\n",
    "**Respuesta:**"
   ],
   "metadata": {
    "colab_type": "text",
    "id": "iU2NlezaiIur"
   }
  },
  {
   "cell_type": "code",
   "execution_count": null,
   "source": [
    "# Escribe el nuevo codigo aqui\n"
   ],
   "outputs": [],
   "metadata": {
    "colab": {},
    "colab_type": "code",
    "id": "Rxk9ySLQiMC4"
   }
  }
 ],
 "metadata": {
  "colab": {
   "name": "pyRecLab_SlopeOne.ipynb",
   "provenance": [],
   "toc_visible": true
  },
  "kernelspec": {
   "display_name": "Python 3",
   "language": "python",
   "name": "python3"
  },
  "language_info": {
   "codemirror_mode": {
    "name": "ipython",
    "version": 3
   },
   "file_extension": ".py",
   "mimetype": "text/x-python",
   "name": "python",
   "nbconvert_exporter": "python",
   "pygments_lexer": "ipython3",
   "version": "3.6.0"
  },
  "toc": {
   "base_numbering": 1,
   "nav_menu": {},
   "number_sections": true,
   "sideBar": true,
   "skip_h1_title": false,
   "title_cell": "Table of Contents",
   "title_sidebar": "Contents",
   "toc_cell": false,
   "toc_position": {},
   "toc_section_display": true,
   "toc_window_display": false
  }
 },
 "nbformat": 4,
 "nbformat_minor": 1
}